{
 "cells": [
  {
   "cell_type": "markdown",
   "metadata": {},
   "source": [
    "### Stack Using Linked List"
   ]
  },
  {
   "cell_type": "code",
   "execution_count": 10,
   "metadata": {},
   "outputs": [],
   "source": [
    "class Node:\n",
    "    def __init__(self, data) -> None:\n",
    "        self.data = data\n",
    "        self.next = None    "
   ]
  },
  {
   "cell_type": "code",
   "execution_count": 11,
   "metadata": {},
   "outputs": [],
   "source": [
    "# insert element into linked list\n",
    "def insert(head, data):\n",
    "    newNode = Node(data)\n",
    "    if head is None:\n",
    "        head = newNode\n",
    "    else:\n",
    "        temp = head\n",
    "        while temp.next is not None:\n",
    "            temp = temp.next\n",
    "        \n",
    "        temp.next = newNode\n",
    "    \n",
    "    return head\n"
   ]
  },
  {
   "cell_type": "code",
   "execution_count": 12,
   "metadata": {},
   "outputs": [],
   "source": [
    "# display the elements in linked list\n",
    "def display(head):\n",
    "    while head is not None:\n",
    "        print(head.data, end=\"=>\")\n",
    "        head = head.next"
   ]
  },
  {
   "cell_type": "code",
   "execution_count": 13,
   "metadata": {},
   "outputs": [
    {
     "name": "stdout",
     "output_type": "stream",
     "text": [
      "9\n",
      "1=>2=>3=>4=>5=>6=>7=>8=>9=>"
     ]
    }
   ],
   "source": [
    "ls = [1,2,3,4,5,6,7,8,9]\n",
    "sz = len(ls)\n",
    "print(sz)\n",
    "head = None\n",
    "for item in ls:\n",
    "    head = insert(head, item)\n",
    "\n",
    "display(head)"
   ]
  },
  {
   "cell_type": "code",
   "execution_count": 19,
   "metadata": {},
   "outputs": [],
   "source": [
    "class Stack:\n",
    "    def __init__(self) -> None:\n",
    "        self.top = None\n",
    "        self.size = 0\n",
    "        self.head = None\n",
    "    \n",
    "    \n",
    "    def insert(self, data):\n",
    "        newNode = Node(data)\n",
    "        if self.head is None:\n",
    "            self.head = newNode\n",
    "        else:\n",
    "            temp = self.head\n",
    "            prev = None\n",
    "            while temp.next is not None:\n",
    "                prev = temp\n",
    "                temp = temp.next\n",
    "            \n",
    "            temp.next = newNode\n",
    "            self.top = prev\n",
    "\n",
    "    \n",
    "    def getSize(self) :\n",
    "        return self.size\n",
    "\n",
    "    def isEmpty(self) :\n",
    "        return self.size == 0\n",
    "\n",
    "    def push(self, data) :\n",
    "        self.insert(data)\n",
    "\n",
    "    def pop(self) :\n",
    "        while self.head is not None:\n",
    "            print(self.head.data)\n",
    "            self.head = self.head.next\n",
    "\n",
    "    def top(self) :\n",
    "        return self.top"
   ]
  },
  {
   "cell_type": "code",
   "execution_count": 20,
   "metadata": {},
   "outputs": [
    {
     "name": "stdout",
     "output_type": "stream",
     "text": [
      "0\n",
      "1\n",
      "1\n",
      "None\n",
      "None\n"
     ]
    }
   ],
   "source": [
    "stack = Stack()\n",
    "t=1\n",
    "while t > 0:\n",
    "    if t == 1:\n",
    "        print(stack.getSize())\n",
    "    if t == 2:\n",
    "        print(stack.isEmpty())\n",
    "    if t == 3:\n",
    "        stack.push(int(input()))\n",
    "    if t == 4:\n",
    "        print(stack.pop())\n",
    "    \n",
    "    t = int(input())"
   ]
  }
 ],
 "metadata": {
  "kernelspec": {
   "display_name": "Python 3.9.0 64-bit",
   "language": "python",
   "name": "python3"
  },
  "language_info": {
   "codemirror_mode": {
    "name": "ipython",
    "version": 3
   },
   "file_extension": ".py",
   "mimetype": "text/x-python",
   "name": "python",
   "nbconvert_exporter": "python",
   "pygments_lexer": "ipython3",
   "version": "3.9.0"
  },
  "orig_nbformat": 4,
  "vscode": {
   "interpreter": {
    "hash": "2538c1cb39cab54742598ae8cbbe0d3a757ffe021119cffba0a4ba89483d6ded"
   }
  }
 },
 "nbformat": 4,
 "nbformat_minor": 2
}
